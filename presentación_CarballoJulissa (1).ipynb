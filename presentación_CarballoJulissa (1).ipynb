{
  "nbformat": 4,
  "nbformat_minor": 0,
  "metadata": {
    "colab": {
      "name": "presentación_CarballoJulissa.ipynb",
      "provenance": [],
      "collapsed_sections": [],
      "toc_visible": true
    },
    "kernelspec": {
      "display_name": "Python 3",
      "language": "python",
      "name": "python3"
    },
    "language_info": {
      "codemirror_mode": {
        "name": "ipython",
        "version": 3
      },
      "file_extension": ".py",
      "mimetype": "text/x-python",
      "name": "python",
      "nbconvert_exporter": "python",
      "pygments_lexer": "ipython3",
      "version": "3.8.3"
    }
  },
  "cells": [
    {
      "cell_type": "code",
      "metadata": {
        "id": "S6c69fc-BgF2"
      },
      "source": [
        "import numpy as np\n",
        "np.random.seed(4)\n",
        "import matplotlib.pyplot as plt\n",
        "import pandas as pd\n",
        "import pandas_datareader.data as web\n",
        "import datetime"
      ],
      "execution_count": 1,
      "outputs": []
    },
    {
      "cell_type": "markdown",
      "metadata": {
        "id": "GrJdCzAae8Ru"
      },
      "source": [
        "Alumna: Julissa M. Carballo Pinto."
      ]
    },
    {
      "cell_type": "code",
      "metadata": {
        "id": "KhDc39fFe8R0"
      },
      "source": [
        "from sklearn.preprocessing import MinMaxScaler\n",
        "from keras.layers import Dense, LSTM\n",
        "from keras.models import Sequential"
      ],
      "execution_count": 2,
      "outputs": []
    },
    {
      "cell_type": "code",
      "metadata": {
        "id": "iTWe1pMPBgGi"
      },
      "source": [
        "#\n",
        "# Funciones auxiliares\n",
        "#\n",
        "def graficar_predicciones(real, prediccion):\n",
        "    plt.plot(real[0:len(prediccion)],color='red', label='Valor real de la acción')\n",
        "    plt.plot(prediccion, color='blue', label='Predicción de la acción')\n",
        "    plt.ylim(1.1 * np.min(prediccion)/2, 1.1 * np.max(prediccion))\n",
        "    plt.xlabel('Tiempo')\n",
        "    plt.ylabel('Valor de la acción')\n",
        "    plt.legend()\n",
        "    plt.show()"
      ],
      "execution_count": 3,
      "outputs": []
    },
    {
      "cell_type": "code",
      "metadata": {
        "colab": {
          "base_uri": "https://localhost:8080/",
          "height": 235
        },
        "id": "glBn7jm-BgGo",
        "outputId": "b26f5bb1-bb3b-4b48-dcd3-943e0563672b"
      },
      "source": [
        "#\n",
        "# Lectura de los datos\n",
        "#\n",
        "#dataset = pd.read_csv('Futuros del Índice S&P 500 - Este es el bueno.csv', index_col='Fecha', parse_dates=['Fecha'])\n",
        "#dataset.head()\n",
        "start = datetime.datetime(2015,1,1)\n",
        "end = datetime.datetime(2020,12,31)\n",
        "dataset = web.get_data_yahoo('VOO','01/01/2015',interval='m')\n",
        "dataset.head()"
      ],
      "execution_count": 4,
      "outputs": [
        {
          "output_type": "execute_result",
          "data": {
            "text/html": [
              "<div>\n",
              "<style scoped>\n",
              "    .dataframe tbody tr th:only-of-type {\n",
              "        vertical-align: middle;\n",
              "    }\n",
              "\n",
              "    .dataframe tbody tr th {\n",
              "        vertical-align: top;\n",
              "    }\n",
              "\n",
              "    .dataframe thead th {\n",
              "        text-align: right;\n",
              "    }\n",
              "</style>\n",
              "<table border=\"1\" class=\"dataframe\">\n",
              "  <thead>\n",
              "    <tr style=\"text-align: right;\">\n",
              "      <th></th>\n",
              "      <th>High</th>\n",
              "      <th>Low</th>\n",
              "      <th>Open</th>\n",
              "      <th>Close</th>\n",
              "      <th>Volume</th>\n",
              "      <th>Adj Close</th>\n",
              "    </tr>\n",
              "    <tr>\n",
              "      <th>Date</th>\n",
              "      <th></th>\n",
              "      <th></th>\n",
              "      <th></th>\n",
              "      <th></th>\n",
              "      <th></th>\n",
              "      <th></th>\n",
              "    </tr>\n",
              "  </thead>\n",
              "  <tbody>\n",
              "    <tr>\n",
              "      <th>2015-01-01</th>\n",
              "      <td>189.720001</td>\n",
              "      <td>182.089996</td>\n",
              "      <td>189.289993</td>\n",
              "      <td>182.990005</td>\n",
              "      <td>51629600.0</td>\n",
              "      <td>162.489365</td>\n",
              "    </tr>\n",
              "    <tr>\n",
              "      <th>2015-02-01</th>\n",
              "      <td>194.649994</td>\n",
              "      <td>181.470001</td>\n",
              "      <td>183.500000</td>\n",
              "      <td>193.199997</td>\n",
              "      <td>30737100.0</td>\n",
              "      <td>171.555527</td>\n",
              "    </tr>\n",
              "    <tr>\n",
              "      <th>2015-03-01</th>\n",
              "      <td>194.470001</td>\n",
              "      <td>187.149994</td>\n",
              "      <td>193.309998</td>\n",
              "      <td>189.199997</td>\n",
              "      <td>35632400.0</td>\n",
              "      <td>168.003632</td>\n",
              "    </tr>\n",
              "    <tr>\n",
              "      <th>2015-04-01</th>\n",
              "      <td>194.740005</td>\n",
              "      <td>187.470001</td>\n",
              "      <td>189.169998</td>\n",
              "      <td>191.100006</td>\n",
              "      <td>30252000.0</td>\n",
              "      <td>170.556534</td>\n",
              "    </tr>\n",
              "    <tr>\n",
              "      <th>2015-05-01</th>\n",
              "      <td>195.949997</td>\n",
              "      <td>189.529999</td>\n",
              "      <td>191.960007</td>\n",
              "      <td>193.490005</td>\n",
              "      <td>25759100.0</td>\n",
              "      <td>172.689636</td>\n",
              "    </tr>\n",
              "  </tbody>\n",
              "</table>\n",
              "</div>"
            ],
            "text/plain": [
              "                  High         Low  ...      Volume   Adj Close\n",
              "Date                                ...                        \n",
              "2015-01-01  189.720001  182.089996  ...  51629600.0  162.489365\n",
              "2015-02-01  194.649994  181.470001  ...  30737100.0  171.555527\n",
              "2015-03-01  194.470001  187.149994  ...  35632400.0  168.003632\n",
              "2015-04-01  194.740005  187.470001  ...  30252000.0  170.556534\n",
              "2015-05-01  195.949997  189.529999  ...  25759100.0  172.689636\n",
              "\n",
              "[5 rows x 6 columns]"
            ]
          },
          "metadata": {
            "tags": []
          },
          "execution_count": 4
        }
      ]
    },
    {
      "cell_type": "code",
      "metadata": {
        "colab": {
          "base_uri": "https://localhost:8080/",
          "height": 279
        },
        "id": "dSadYSVgBgG6",
        "outputId": "27e18e41-6ebf-403a-dce4-e6139c2d1239"
      },
      "source": [
        "#\n",
        "# Sets de entrenamiento y validación \n",
        "# La LSTM se entrenará con datos de 2016 hacia atrás. La validación se hará con datos de 2017 en adelante.\n",
        "# En ambos casos sólo se usará el valor más alto de la acción para cada día\n",
        "#\n",
        "\n",
        "set_entrenamiento = dataset['2015':'2019'].iloc[:,3:4]\n",
        "set_validacion = dataset['2020':].iloc[:,3:4]\n",
        "set_entrenamiento['Close'].plot(legend=True)\n",
        "set_validacion['Close'].plot(legend=True)\n",
        "plt.legend(['Entrenamiento (Ene 2015-Dic 2019)', 'Validacion (Ene 2020 - Actualidad)'])\n",
        "plt.show()"
      ],
      "execution_count": 6,
      "outputs": [
        {
          "output_type": "display_data",
          "data": {
            "image/png": "[encoded data removed]",
            "text/plain": [
              "<Figure size 432x288 with 1 Axes>"
            ]
          },
          "metadata": {
            "tags": [],
            "needs_background": "light"
          }
        }
      ]
    },
    {
      "cell_type": "code",
      "metadata": {
        "colab": {
          "base_uri": "https://localhost:8080/"
        },
        "id": "yZfQMFJvBgHG",
        "outputId": "01755244-13f6-4f18-e6da-4ffcead08132"
      },
      "source": [
        "# Normalización del set de entrenamiento\n",
        "sc = MinMaxScaler(feature_range=(0,1))\n",
        "print(sc)\n",
        "print(set_entrenamiento)\n",
        "set_entrenamiento_escalado = sc.fit_transform(set_entrenamiento)"
      ],
      "execution_count": 7,
      "outputs": [
        {
          "output_type": "stream",
          "text": [
            "MinMaxScaler(copy=True, feature_range=(0, 1))\n",
            "                 Close\n",
            "Date                  \n",
            "2015-01-01  182.990005\n",
            "2015-02-01  193.199997\n",
            "2015-03-01  189.199997\n",
            "2015-04-01  191.100006\n",
            "2015-05-01  193.490005\n",
            "2015-06-01  188.839996\n",
            "2015-07-01  192.949997\n",
            "2015-08-01  181.110001\n",
            "2015-09-01  175.710007\n",
            "2015-10-01  190.559998\n",
            "2015-11-01  191.369995\n",
            "2015-12-01  186.929993\n",
            "2016-01-01  177.750000\n",
            "2016-02-01  177.380005\n",
            "2016-03-01  188.559998\n",
            "2016-04-01  189.220001\n",
            "2016-05-01  192.539993\n",
            "2016-06-01  192.199997\n",
            "2016-07-01  199.279999\n",
            "2016-08-01  199.520004\n",
            "2016-09-01  198.690002\n",
            "2016-10-01  195.130005\n",
            "2016-11-01  202.399994\n",
            "2016-12-01  205.309998\n",
            "2017-01-01  208.970001\n",
            "2017-02-01  217.070007\n",
            "2017-03-01  216.350006\n",
            "2017-04-01  218.600006\n",
            "2017-05-01  221.669998\n",
            "2017-06-01  222.059998\n",
            "2017-07-01  226.639999\n",
            "2017-08-01  227.300003\n",
            "2017-09-01  230.759995\n",
            "2017-10-01  236.130005\n",
            "2017-11-01  243.350006\n",
            "2017-12-01  245.289993\n",
            "2018-01-01  258.989990\n",
            "2018-02-01  249.339996\n",
            "2018-03-01  242.080002\n",
            "2018-04-01  242.919998\n",
            "2018-05-01  248.789993\n",
            "2018-06-01  249.509995\n",
            "2018-07-01  258.399994\n",
            "2018-08-01  266.720001\n",
            "2018-09-01  267.049988\n",
            "2018-10-01  248.789993\n",
            "2018-11-01  253.479996\n",
            "2018-12-01  229.809998\n",
            "2019-01-01  248.009995\n",
            "2019-02-01  256.070007\n",
            "2019-03-01  259.540009\n",
            "2019-04-01  270.010010\n",
            "2019-05-01  252.869995\n",
            "2019-06-01  269.149994\n",
            "2019-07-01  273.079987\n",
            "2019-08-01  268.600006\n",
            "2019-09-01  272.600006\n",
            "2019-10-01  278.549988\n",
            "2019-11-01  288.649994\n",
            "2019-12-01  295.799988\n"
          ],
          "name": "stdout"
        }
      ]
    },
    {
      "cell_type": "code",
      "metadata": {
        "id": "EwxGxthMe8SP"
      },
      "source": [
        ""
      ],
      "execution_count": 7,
      "outputs": []
    },
    {
      "cell_type": "markdown",
      "metadata": {
        "id": "7mLXvcbvBgHL"
      },
      "source": [
        "## La red LSTM tendrá como entrada \"time_step\" datos consecutivos, y como salida 1 dato (la predicción a\n",
        "# partir de esos \"time_step\" datos). Se conformará de esta forma el set de entrenamiento\n",
        "time_step = 726\n",
        "X_train = []\n",
        "Y_train = []\n",
        "m = len(set_entrenamiento_escalado)"
      ]
    },
    {
      "cell_type": "code",
      "metadata": {
        "id": "LPH7Qxe4KibN"
      },
      "source": [
        "time_step = 3\n",
        "X_train = [] \n",
        "Y_train = [] \n",
        "m = len(set_entrenamiento_escalado)"
      ],
      "execution_count": 8,
      "outputs": []
    },
    {
      "cell_type": "code",
      "metadata": {
        "colab": {
          "base_uri": "https://localhost:8080/"
        },
        "id": "Qr0LzvuRBgHQ",
        "outputId": "07dcd586-69e6-4277-c2a4-c2db871c13a9"
      },
      "source": [
        "for i in range(time_step,m):\n",
        "    # X: bloques de \"time_step\" datos: 0-time_step, 1-time_step+1, 2-time_step+2, etc\n",
        "    X_train.append(set_entrenamiento_escalado[i-time_step:i,0])\n",
        "    # Y: el siguiente dato\n",
        "    Y_train.append(set_entrenamiento_escalado[i,0])\n",
        "X_train, Y_train = np.array(X_train), np.array(Y_train)\n",
        "X_train = np.reshape(X_train, (X_train.shape[0], X_train.shape[1], 1))\n",
        "len(X_train)"
      ],
      "execution_count": 9,
      "outputs": [
        {
          "output_type": "execute_result",
          "data": {
            "text/plain": [
              "57"
            ]
          },
          "metadata": {
            "tags": []
          },
          "execution_count": 9
        }
      ]
    },
    {
      "cell_type": "code",
      "metadata": {
        "colab": {
          "base_uri": "https://localhost:8080/"
        },
        "id": "okIZxUBSBgHg",
        "outputId": "cb9531e0-7049-476a-aa68-cb172d9d6c33"
      },
      "source": [
        "#\n",
        "# Red LSTM\n",
        "#\n",
        "dim_entrada = (X_train.shape[1],1)\n",
        "dim_salida = 1\n",
        "print(dim_entrada)\n",
        "na = 120\n",
        "\n",
        "modelo = Sequential()\n",
        "modelo.add(LSTM(units=na, input_shape=dim_entrada))\n",
        "modelo.add(Dense(units=dim_salida))\n",
        "modelo.compile(optimizer='rmsprop', loss='mse')\n",
        "modelo.fit(X_train,Y_train,epochs=20,batch_size=12)"
      ],
      "execution_count": 10,
      "outputs": [
        {
          "output_type": "stream",
          "text": [
            "(3, 1)\n",
            "Epoch 1/20\n",
            "5/5 [==============================] - 2s 7ms/step - loss: 0.2361\n",
            "Epoch 2/20\n",
            "5/5 [==============================] - 0s 5ms/step - loss: 0.0997\n",
            "Epoch 3/20\n",
            "5/5 [==============================] - 0s 4ms/step - loss: 0.0381\n",
            "Epoch 4/20\n",
            "5/5 [==============================] - 0s 5ms/step - loss: 0.0193\n",
            "Epoch 5/20\n",
            "5/5 [==============================] - 0s 5ms/step - loss: 0.0170\n",
            "Epoch 6/20\n",
            "5/5 [==============================] - 0s 4ms/step - loss: 0.0147\n",
            "Epoch 7/20\n",
            "5/5 [==============================] - 0s 4ms/step - loss: 0.0129\n",
            "Epoch 8/20\n",
            "5/5 [==============================] - 0s 4ms/step - loss: 0.0105\n",
            "Epoch 9/20\n",
            "5/5 [==============================] - 0s 4ms/step - loss: 0.0111\n",
            "Epoch 10/20\n",
            "5/5 [==============================] - 0s 4ms/step - loss: 0.0085\n",
            "Epoch 11/20\n",
            "5/5 [==============================] - 0s 4ms/step - loss: 0.0065\n",
            "Epoch 12/20\n",
            "5/5 [==============================] - 0s 4ms/step - loss: 0.0084\n",
            "Epoch 13/20\n",
            "5/5 [==============================] - 0s 5ms/step - loss: 0.0089\n",
            "Epoch 14/20\n",
            "5/5 [==============================] - 0s 4ms/step - loss: 0.0082\n",
            "Epoch 15/20\n",
            "5/5 [==============================] - 0s 5ms/step - loss: 0.0086\n",
            "Epoch 16/20\n",
            "5/5 [==============================] - 0s 5ms/step - loss: 0.0085\n",
            "Epoch 17/20\n",
            "5/5 [==============================] - 0s 4ms/step - loss: 0.0079\n",
            "Epoch 18/20\n",
            "5/5 [==============================] - 0s 4ms/step - loss: 0.0088\n",
            "Epoch 19/20\n",
            "5/5 [==============================] - 0s 5ms/step - loss: 0.0077\n",
            "Epoch 20/20\n",
            "5/5 [==============================] - 0s 4ms/step - loss: 0.0064\n"
          ],
          "name": "stdout"
        },
        {
          "output_type": "execute_result",
          "data": {
            "text/plain": [
              "<tensorflow.python.keras.callbacks.History at 0x7f19c106e208>"
            ]
          },
          "metadata": {
            "tags": []
          },
          "execution_count": 10
        }
      ]
    },
    {
      "cell_type": "code",
      "metadata": {
        "colab": {
          "base_uri": "https://localhost:8080/",
          "height": 740
        },
        "id": "C0X8ySdsBgHp",
        "outputId": "b4f1096f-247b-4995-80c9-c7c979b88c9b"
      },
      "source": [
        "#\n",
        "# Validación (predicción del valor de las acciones)\n",
        "#\n",
        "\n",
        "x_test = set_validacion.values\n",
        "x_test = sc.transform(x_test)\n",
        "\n",
        "X_test = []\n",
        "\n",
        "m = len(x_test)\n",
        "for i in range(time_step,m):\n",
        "  X_test.append(x_test[i-time_step:i,0])\n",
        "X_test = np.array(X_test)\n",
        "X_test = np.reshape(X_test, (X_test.shape[0],X_test.shape[1],1))\n",
        "\n",
        "prediccion = modelo.predict(X_test)\n",
        "prediccion = sc.inverse_transform(prediccion)\n",
        "\n",
        "# Graficar resultados\n",
        "print(set_validacion)\n",
        "print(prediccion)\n",
        "graficar_predicciones(set_validacion.values,prediccion)"
      ],
      "execution_count": 11,
      "outputs": [
        {
          "output_type": "stream",
          "text": [
            "                 Close\n",
            "Date                  \n",
            "2020-01-01  295.690002\n",
            "2020-02-01  271.739990\n",
            "2020-03-01  236.820007\n",
            "2020-04-01  267.100006\n",
            "2020-05-01  279.750000\n",
            "2020-06-01  283.429993\n",
            "2020-07-01  300.100006\n",
            "2020-08-01  321.019989\n",
            "2020-09-01  307.649994\n",
            "2020-10-01  299.820007\n",
            "2020-11-01  332.640015\n",
            "2020-12-01  343.690002\n",
            "2021-01-01  351.899994\n",
            "2021-01-25  353.329987\n",
            "[[288.7401 ]\n",
            " [265.21002]\n",
            " [260.10815]\n",
            " [283.28268]\n",
            " [295.29935]\n",
            " [308.59998]\n",
            " [326.1959 ]\n",
            " [332.0813 ]\n",
            " [325.8011 ]\n",
            " [337.94244]\n",
            " [366.5002 ]]\n"
          ],
          "name": "stdout"
        },
        {
          "output_type": "display_data",
          "data": {
            "image/png": "[encoded data removed]",
            "text/plain": [
              "<Figure size 432x288 with 1 Axes>"
            ]
          },
          "metadata": {
            "tags": [],
            "needs_background": "light"
          }
        }
      ]
    },
    {
      "cell_type": "code",
      "metadata": {
        "id": "5-lnsovpe8Ti"
      },
      "source": [
        ""
      ],
      "execution_count": null,
      "outputs": []
    }
  ]
}